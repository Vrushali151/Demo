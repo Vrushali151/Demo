{
 "cells": [
  {
   "cell_type": "code",
   "execution_count": 34,
   "id": "91151cc9-56e0-4ced-8d80-f5561a5cac61",
   "metadata": {},
   "outputs": [
    {
     "name": "stdout",
     "output_type": "stream",
     "text": [
      "Number of words present in given file:  428\n",
      "Total Amount of Numbers in given file:  374\n",
      "Total Mobile Numbers in given file:  0\n"
     ]
    }
   ],
   "source": [
    "Number=0\n",
    "count=0\n",
    "MobNumber=0\n",
    "Fp=open('test.txt','r')\n",
    "data=Fp.read()\n",
    "for i in data:\n",
    "    words=i.split(\" \")\n",
    "    if str(words).isalpha:        \n",
    "        count = count + len(words)  \n",
    "    if str(words).isnumeric:\n",
    "        Number=Number+1        \n",
    "        if len(words)==10:\n",
    "            MobNumber=MobNumber+1\n",
    "     \n",
    "print(\"Number of words present in given file: \", count)     \n",
    "print(\"Total Amount of Numbers in given file: \", Number) \n",
    "print(\"Total Mobile Numbers in given file: \", MobNumber) \n",
    "\n",
    "\n"
   ]
  },
  {
   "cell_type": "code",
   "execution_count": 3,
   "id": "124680d9-3741-4622-ba28-4a007604faca",
   "metadata": {},
   "outputs": [
    {
     "name": "stdout",
     "output_type": "stream",
     "text": [
      "{'Python': 5, 'can': 6, 'be': 4, 'used': 4, 'on': 1, 'a': 1, 'server': 1, 'to': 4, 'create': 2, 'web': 1, 'applications': 1, '9011903456.': 1, '8976543456': 1, 'alongside': 1, 'software': 2, 'workflows.': 1, 'connect': 1, 'database': 1, 'systems.': 1, 'It': 1, 'also': 1, 'read': 1, 'and': 2, 'modify': 1, 'files.': 1, '8769879798': 1, 'handle': 1, 'big': 1, 'data': 1, 'perform': 1, 'complex': 1, 'mathematics.': 1, 'for': 2, 'rapid': 1, 'prototyping,': 1, 'or': 1, 'production-ready': 1, 'development.': 1}\n",
      "****************************************************************************************************\n",
      "{'valid_phones': ['8976543456', '8769879798'], 'invalid_phones': [], 'valid_emails': [], 'invalid_emails': [], 'noramals': ['Python', 'can', 'be', 'used', 'on', 'a', 'server', 'to', 'create', 'web', 'applications', '9011903456.', 'Python', 'can', 'be', 'used', 'alongside', 'software', 'to', 'create', 'workflows.', 'Python', 'can', 'connect', 'to', 'database', 'systems.', 'It', 'can', 'also', 'read', 'and', 'modify', 'files.', 'Python', 'can', 'be', 'used', 'to', 'handle', 'big', 'data', 'and', 'perform', 'complex', 'mathematics.', 'Python', 'can', 'be', 'used', 'for', 'rapid', 'prototyping,', 'or', 'for', 'production-ready', 'software', 'development.']}\n",
      "end\n"
     ]
    }
   ],
   "source": [
    "def file_read(fname):\n",
    "    fp = open(fname)\n",
    "    data = fp.read()\n",
    "    return data\n",
    "    \n",
    "\n",
    "def word_count(data):\n",
    "    word = {}\n",
    "    for w in data.split():\n",
    "        if w in word:\n",
    "            word[w]+=1\n",
    "        else:\n",
    "            word[w]=1\n",
    "    return word,data.split()\n",
    "\n",
    "def valid_invalid_email_phones(wordlist):\n",
    "    valid_phone = []\n",
    "    invalid_phone = []\n",
    "    valid_emails = []\n",
    "    invalid_emails =[]\n",
    "    normal_word = []\n",
    "    result = {}\n",
    "    for word in wordlist:\n",
    "        if str(word).isnumeric():\n",
    "            if len(str(word))==10:\n",
    "                valid_phone.append(word)\n",
    "            else:\n",
    "                invalid_phone.append(word)\n",
    "        elif '@' in word or '.com' in word:\n",
    "            if word.endswith('@gmail.com'):\n",
    "                valid_emails.append(word)\n",
    "            else:\n",
    "                invalid_emails.append(word)\n",
    "        else:\n",
    "            \n",
    "            normal_word.append(word)\n",
    "        \n",
    "    result['valid_phones'] = valid_phone\n",
    "    result['invalid_phones'] = invalid_phone\n",
    "    result['valid_emails'] =  valid_emails\n",
    "    result['invalid_emails'] =  invalid_emails\n",
    "    result['noramals'] = normal_word\n",
    "    return result\n",
    "    \n",
    "    \n",
    "def main():\n",
    "    filename = 'test.txt'    \n",
    "    data = file_read(filename)\n",
    "    wcount,word_list = word_count(data)\n",
    "    result = valid_invalid_email_phones(word_list)\n",
    "    print(wcount)\n",
    "    print(\"*\"*100)\n",
    "    print(result)\n",
    "    print(\"end\")\n",
    "  \n",
    "#triggering code    \n",
    "if __name__=='__main__':\n",
    "    main()"
   ]
  },
  {
   "cell_type": "code",
   "execution_count": null,
   "id": "5fd9c8fa-4a8a-4e2f-a1e7-e7c0e3e86d6d",
   "metadata": {},
   "outputs": [],
   "source": []
  },
  {
   "cell_type": "code",
   "execution_count": null,
   "id": "d0430fdd-7510-47e3-b242-edea9856e57a",
   "metadata": {},
   "outputs": [],
   "source": []
  }
 ],
 "metadata": {
  "kernelspec": {
   "display_name": "Python 3 (ipykernel)",
   "language": "python",
   "name": "python3"
  },
  "language_info": {
   "codemirror_mode": {
    "name": "ipython",
    "version": 3
   },
   "file_extension": ".py",
   "mimetype": "text/x-python",
   "name": "python",
   "nbconvert_exporter": "python",
   "pygments_lexer": "ipython3",
   "version": "3.12.4"
  }
 },
 "nbformat": 4,
 "nbformat_minor": 5
}
